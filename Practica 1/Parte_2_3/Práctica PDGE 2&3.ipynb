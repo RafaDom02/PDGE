{
  "nbformat": 4,
  "nbformat_minor": 0,
  "metadata": {
    "colab": {
      "provenance": []
    },
    "kernelspec": {
      "name": "python3",
      "display_name": "Python 3"
    },
    "language_info": {
      "name": "python"
    }
  },
  "cells": [
    {
      "cell_type": "markdown",
      "source": [
        "# 2. Programación básica en Spark\n",
        "\n",
        "El trabajo realizado en esta parte ha consistido en el seguimiento del tutorial de programación básica en Spark y en la respuesta justificada a las preguntas planteadas. Como estamos trabajando en un cuaderno, vamos a iniciar la sesión de Spark en el sistema y a obtener el entorno de ejecución de Spark en el Driver antes de nada."
      ],
      "metadata": {
        "id": "8SBd7Y4_FZXg"
      }
    },
    {
      "cell_type": "code",
      "source": [
        "!pip install pyspark\n",
        "\n",
        "from pyspark.sql import SparkSession\n",
        "import pandas as pd\n",
        "import numpy as np\n",
        "import matplotlib.pyplot as plt\n",
        "\n",
        "APP_NAME = \"PDGE-tutorialSpark1\"\n",
        "SPARK_URL = \"local[*]\"\n",
        "spark = SparkSession.builder.appName(APP_NAME).master(SPARK_URL).getOrCreate()\n",
        "spark\n",
        "\n",
        "sc = spark.sparkContext"
      ],
      "metadata": {
        "colab": {
          "base_uri": "https://localhost:8080/"
        },
        "id": "m9vWH7_LHD-0",
        "outputId": "78c071b1-9f81-4040-998d-20cce84964ea"
      },
      "execution_count": 1,
      "outputs": [
        {
          "output_type": "stream",
          "name": "stdout",
          "text": [
            "Requirement already satisfied: pyspark in /usr/local/lib/python3.10/dist-packages (3.5.3)\n",
            "Requirement already satisfied: py4j==0.10.9.7 in /usr/local/lib/python3.10/dist-packages (from pyspark) (0.10.9.7)\n"
          ]
        }
      ]
    },
    {
      "cell_type": "markdown",
      "source": [
        "#### Pregunta TS1.1 ¿Cómo hacer para obtener una lista de los elementos al cuadrado?\n",
        "\n",
        "Similarmente al ejemplo planteado en la celda anterior del tutorial, al RDD `numeros` se le aplica la función `map` cuyo parámetro será la función `lambda x: x**2`. Esta función simplemente eleva cada elemento del RDD al cuadrado. Luego usamos `collect` para imprimir el resultado. El código es:"
      ],
      "metadata": {
        "id": "K29TmKzWFzZl"
      }
    },
    {
      "cell_type": "code",
      "source": [
        "numeros = sc.parallelize([1,2,3,4,5,6,7,8,9,10])\n",
        "\n",
        "rdd = numeros.map(lambda x: x**2)\n",
        "print(rdd.collect())"
      ],
      "metadata": {
        "colab": {
          "base_uri": "https://localhost:8080/"
        },
        "id": "O4SOiULHFvAA",
        "outputId": "f8090a17-8e47-42d2-c5f4-87752c0aa703"
      },
      "execution_count": 2,
      "outputs": [
        {
          "output_type": "stream",
          "name": "stdout",
          "text": [
            "[1, 4, 9, 16, 25, 36, 49, 64, 81, 100]\n"
          ]
        }
      ]
    },
    {
      "cell_type": "markdown",
      "source": [
        "#### Pregunta TS1.2 ¿Cómo filtrar los impares?\n",
        "\n",
        "Ahora en lugar de usar la función `map` deberemos usar una función que filtre los valores deseados. En este caso utilizaremos `filter` que se aplicará a este RDD y se le introducirá como parámetro la función `lambda x: x\\%2==1`. Esta función calcula el resto de cada uno de los elementos al ser divididos entre 2. Si el resto es 1 entonces los filtra y es así cómo se obtienen los valores impares de nuestro RDD original."
      ],
      "metadata": {
        "id": "nKhS-oe6IOzI"
      }
    },
    {
      "cell_type": "code",
      "source": [
        "numeros = sc.parallelize([1,2,3,4,5,6,7,8,9,10])\n",
        "\n",
        "rddi = numeros.filter(lambda x: x%2==1)\n",
        "print(rddi.collect())"
      ],
      "metadata": {
        "colab": {
          "base_uri": "https://localhost:8080/"
        },
        "id": "1rgvv9IlITFK",
        "outputId": "71a14170-b734-44fb-ce77-e8d8ca3a0318"
      },
      "execution_count": 3,
      "outputs": [
        {
          "output_type": "stream",
          "name": "stdout",
          "text": [
            "[1, 3, 5, 7, 9]\n"
          ]
        }
      ]
    },
    {
      "cell_type": "markdown",
      "source": [
        "#### Pregunta TS1.3 Ejecute las siguientes celdas y conteste razonadamente. ¿Tiene sentido reduce con una resta en lugar de una suma? ¿Si se repite se obtiene siempre el mismo resultado?\n",
        "\n",
        "El código proporcionado sobre el que se realizan las siguientes preguntas es:"
      ],
      "metadata": {
        "id": "olRzSWT_IUDw"
      }
    },
    {
      "cell_type": "code",
      "source": [
        "# ¿Tiene sentido la reducción(elem1-elem2)?\n",
        "numeros = sc.parallelize([1,2,3,4,5,6,7,8,9,10])\n",
        "\n",
        "print (numeros.reduce(lambda elem1,elem2: elem1-elem2))\n",
        "print (numeros.reduce(lambda elem1,elem2: elem1+elem2))"
      ],
      "metadata": {
        "colab": {
          "base_uri": "https://localhost:8080/"
        },
        "id": "uvgdFNcYIgtJ",
        "outputId": "f5d87200-6180-49c9-c5eb-a6725ce5447a"
      },
      "execution_count": 4,
      "outputs": [
        {
          "output_type": "stream",
          "name": "stdout",
          "text": [
            "15\n",
            "55\n"
          ]
        }
      ]
    },
    {
      "cell_type": "code",
      "source": [
        "# ¿Tiene sentido la reducción(elem1-elem2)\n",
        "# si la repetimos y los elementos están en otro orden?\n",
        "numeros = sc.parallelize([2,1,4,3,5,6,7,8,9,10])\n",
        "\n",
        "print (numeros.reduce(lambda elem1,elem2: elem1-elem2))\n",
        "print (numeros.reduce(lambda elem1,elem2: elem1+elem2))"
      ],
      "metadata": {
        "colab": {
          "base_uri": "https://localhost:8080/"
        },
        "id": "XmUdXICHNFDO",
        "outputId": "e8b97445-5886-4f80-c536-581b3da74688"
      },
      "execution_count": 5,
      "outputs": [
        {
          "output_type": "stream",
          "name": "stdout",
          "text": [
            "17\n",
            "55\n"
          ]
        }
      ]
    },
    {
      "cell_type": "code",
      "source": [
        "# ¿Tiene sentido la reducción(elem1-elem2)?\n",
        "# ¿qué pasa si cambiamos la paralelización a 5? ¿y si es 2?\n",
        "numeros5 = sc.parallelize([1,2,3,4,5,6,7,8,9,10],5)\n",
        "numeros2 = sc.parallelize([1,2,3,4,5,6,7,8,9,10],2)\n",
        "\n",
        "print (numeros5.reduce(lambda elem1,elem2: elem1-elem2))\n",
        "print (numeros5.reduce(lambda elem1,elem2: elem1+elem2))\n",
        "print (numeros2.reduce(lambda elem1,elem2: elem1-elem2))\n",
        "print (numeros2.reduce(lambda elem1,elem2: elem1+elem2))"
      ],
      "metadata": {
        "colab": {
          "base_uri": "https://localhost:8080/"
        },
        "id": "aIu9m1uhNE-y",
        "outputId": "714cb5b0-059e-4870-fe23-0fe9b883f376"
      },
      "execution_count": 6,
      "outputs": [
        {
          "output_type": "stream",
          "name": "stdout",
          "text": [
            "3\n",
            "55\n",
            "15\n",
            "55\n"
          ]
        }
      ]
    },
    {
      "cell_type": "markdown",
      "source": [
        "Como se puede comprobar, aunque el RDD inicial tenga los mismos elementos (números del 1 al 10) y la función `reduce` que se aplica tiene la misma función introducida como parámetro, el resultado no es el mismo en cada una de las situaciones. Esto es debido a que el segundo caso se modifica el orden de los elementos y en el tercero se especifica el número de muestras en las que realizar la operación de forma paralela.\n",
        "\n",
        "Esto ocurre ya que esta operación de resta de elementos no tiene sentido hacerla puesto que no es conmutativa y al aplicar `reduce` es necesario esta propiedad de la función a reducir. Por eso mismo los resultados no son iguales.\n",
        "\n",
        "Como se puede ver, para la operación de suma sí que se obtiene el mismo resultado en las tres ocasiones ya que sí que es conmutativa y no importa el orden de los elementos o el número de muestras paralelas para obtener el mismo resultado."
      ],
      "metadata": {
        "id": "KkqvsuLKNQW3"
      }
    },
    {
      "cell_type": "markdown",
      "source": [
        "#### Pregunta TS1.4 ¿Cómo lo ordenarías para que primero aparezcan los impares y luego los pares?\n",
        "\n",
        "Para reordenar los elementos de un RDD para que aparezcan primero los números impares y luego los números pares utilizamos la función `takeOrdered`. Esta función ordena un número $n$ de elemetos según una función que se le introduce.\n",
        "\n",
        "Se utiliza `count` para que se ordenen todos los elementos del RDD siguiendo la función a introducir. Si en vez de `count` utilizáramos un número $m$, se ordenarían los $m$ primeros elementos del RDD.\n",
        "\n",
        "Esta función que se introduce es `lambda x:x%2` que calcula el resto de cada elemento al ser dividido entre 2. Por tanto, asignará un 0 a los valores pares y un 1 a los valores impares. A partir de esto `takeOrdered` ordenará los elementos del RDD tomando primero los elementos con valores menores (los 0) y luego los elementos con valores mayores (los 1). Así apareceran primero los pares y luego los impares."
      ],
      "metadata": {
        "id": "zkf80VlEIUn1"
      }
    },
    {
      "cell_type": "code",
      "source": [
        "numeros = sc.parallelize([3,2,1,4,5])\n",
        "\n",
        "print(numeros.takeOrdered(numeros.count(), lambda elem: elem%2))"
      ],
      "metadata": {
        "colab": {
          "base_uri": "https://localhost:8080/"
        },
        "id": "k0BvJLK-If-7",
        "outputId": "f98b32c3-3d44-45c1-8cc7-c61936644353"
      },
      "execution_count": 7,
      "outputs": [
        {
          "output_type": "stream",
          "name": "stdout",
          "text": [
            "[2, 4, 3, 1, 5]\n"
          ]
        }
      ]
    },
    {
      "cell_type": "markdown",
      "source": [
        "#### Pregunta TS1.5 ¿Cuántos elementos tiene cada RDD? ¿Cuál tiene más?\n",
        "\n",
        "El RDD a los que se refieren son:"
      ],
      "metadata": {
        "id": "U49teKdXIhAx"
      }
    },
    {
      "cell_type": "code",
      "source": [
        "lineas = sc.parallelize(['', 'a', 'a b', 'a b c'])\n",
        "\n",
        "palabras_flat = lineas.flatMap(lambda elemento: elemento.split())\n",
        "palabras_map = lineas.map(lambda elemento: elemento.split())\n",
        "\n",
        "print (palabras_flat.collect())\n",
        "print (palabras_map.collect())"
      ],
      "metadata": {
        "colab": {
          "base_uri": "https://localhost:8080/"
        },
        "id": "_D8Jr_531G35",
        "outputId": "e7341cd3-233f-4887-f620-1d952283358a"
      },
      "execution_count": 8,
      "outputs": [
        {
          "output_type": "stream",
          "name": "stdout",
          "text": [
            "['a', 'a', 'b', 'a', 'b', 'c']\n",
            "[[], ['a'], ['a', 'b'], ['a', 'b', 'c']]\n"
          ]
        }
      ]
    },
    {
      "cell_type": "markdown",
      "source": [
        "Para calcular cuántos elementos tiene cada RDD utilizamos `count`, que cuenta el número de elementos del RDD."
      ],
      "metadata": {
        "id": "9X14qmh84UZY"
      }
    },
    {
      "cell_type": "code",
      "source": [
        "print (palabras_flat.count())\n",
        "print (palabras_map.count())"
      ],
      "metadata": {
        "colab": {
          "base_uri": "https://localhost:8080/"
        },
        "id": "cCyyD8zaIkzx",
        "outputId": "b8c857ba-ffa7-4db0-b0af-75e6ef23c249"
      },
      "execution_count": 9,
      "outputs": [
        {
          "output_type": "stream",
          "name": "stdout",
          "text": [
            "6\n",
            "4\n"
          ]
        }
      ]
    },
    {
      "cell_type": "markdown",
      "source": [
        "Como se puede comprobar, `palabras_flat` tiene más elementos que `palabras_map`. Esto es así porque la función `lambda` que se le introduce a `map` se aplica a los elementos del RDD mientras que la función introducida en `flatMap` se le aplica a cada elemento dentro de los que forman del RDD (que pueden ser vectores conteniendo varios elementos y por eso tiene más elementos que la aplicación de `map` simplemente).\n",
        "\n",
        "De esta forma tenemos que con `flatMap` introducimos cada elemento de `lineas` en un vector cuyos elementos son separados en los elementos que los forman (elimina la característica vectorial de los elementos del RDD inicial) y a los que se applica `lambda` a cada uno de estos elementos. Es por eso que el elemento vacío desaparece y se aumenta el número de elementos iniciales.\n",
        "\n",
        "Con `map` a cada elemento de `lineas` se le aplica la función directamente y el resultado de esta función se introduce en un vector. Este vector es el resultado final cuyos elementos a su vez pueden ser vectores. De esta forma se separan los elementos de los elementos del RDD de entrada. Por tanto, al aplicar `map` siempre se obtiene un RDD con tantos elementos como el RDD de entrada."
      ],
      "metadata": {
        "id": "EW_vCFml4-cE"
      }
    },
    {
      "cell_type": "markdown",
      "source": [
        "#### Pregunta TS1.6 ¿De qué tipo son los elementos del RDD `palabras_map`? ¿Por qué `palabras_map` tiene el primer elemento vacío?\n",
        "\n",
        "Como se ha comentado en la pregunta anterior, en `palabras_map` se obtiene un vector después de haber aplicado la función `lambda` a cada uno de los elementos del RDD de entrada `lineas`. Por tanto, los elementos del RDD `palabras_map` son vectores. Esto también se puede deducir de observar que el resultado de `palabras_map.collect()` son elementos [ ], que indican que son arrays de python.\n",
        "\n",
        "El primer elemento de `palabras_map` es un elemento vacío ya que cuando se aplica la función `split` al elemento `''` de `lines`, al no haber nada que separar se devuelve un vector vacío."
      ],
      "metadata": {
        "id": "XxY2zQ6xImYm"
      }
    },
    {
      "cell_type": "markdown",
      "source": [
        "#### Pregunta TS1.7. Prueba la transformación `distinct` si lo aplicamos a cadenas.\n",
        "\n",
        "Aplicamos la transformación al RDD indicado:"
      ],
      "metadata": {
        "id": "eE_mCFBHItFe"
      }
    },
    {
      "cell_type": "code",
      "source": [
        "log = sc.parallelize(['E: e21', 'I: i11', 'W: w12', 'I: i11', 'W: w13', 'E: e45'])\n",
        "\n",
        "dis = log.distinct()\n",
        "print (dis.collect())"
      ],
      "metadata": {
        "colab": {
          "base_uri": "https://localhost:8080/"
        },
        "id": "DMxdBPa7Ivj9",
        "outputId": "c1173a59-8e5c-4a3a-a00e-a39e3afb7663"
      },
      "execution_count": 10,
      "outputs": [
        {
          "output_type": "stream",
          "name": "stdout",
          "text": [
            "['I: i11', 'W: w12', 'W: w13', 'E: e45', 'E: e21']\n"
          ]
        }
      ]
    },
    {
      "cell_type": "markdown",
      "source": [
        "Lo que esta función hace es devolver un nuevo RDD que contiene los elementos del RDD de entrada que no se repiten en el mismo. Así, los elementos duplicados se eliminan. Esto implica que al comparar los elementos de tipo string de un RDD se comparan caracter a caracter, no se paralelizan estos elementos."
      ],
      "metadata": {
        "id": "j0n-7_T8Dfwi"
      }
    },
    {
      "cell_type": "markdown",
      "source": [
        "#### Pregunta TS1.8 ¿Cómo se podría obtener la misma salida pero utilizando una sola transformación y sin realizar la unión?\n",
        "\n",
        "Esta pregunta hace referencia a la operación:"
      ],
      "metadata": {
        "id": "OxUvfdBkIyPq"
      }
    },
    {
      "cell_type": "code",
      "source": [
        "log = sc.parallelize(['E: e21', 'I: i11', 'W: w12', 'I: i11', 'W: w13', 'E: e45'])\n",
        "\n",
        "infos = log.filter(lambda elemento: elemento[0]=='I')\n",
        "errors = log.filter(lambda elemento: elemento[0]=='E')\n",
        "\n",
        "inferr = infos.union(errors)\n",
        "\n",
        "print (inferr.collect())"
      ],
      "metadata": {
        "colab": {
          "base_uri": "https://localhost:8080/"
        },
        "id": "Za8WkiG7IzvF",
        "outputId": "66a503be-1082-41c2-acf9-dd289167123a"
      },
      "execution_count": 11,
      "outputs": [
        {
          "output_type": "stream",
          "name": "stdout",
          "text": [
            "['I: i11', 'I: i11', 'E: e21', 'E: e45']\n"
          ]
        }
      ]
    },
    {
      "cell_type": "markdown",
      "source": [
        "Para hacerlo en una sola transformación, introducimos las dos condiciones en una sola fución `lambda`. Una posibilidad es la siguiente:"
      ],
      "metadata": {
        "id": "oT-hmKsvEaI5"
      }
    },
    {
      "cell_type": "code",
      "source": [
        "log = sc.parallelize(['E: e21', 'I: i11', 'W: w12', 'I: i11', 'W: w13', 'E: e45'])\n",
        "\n",
        "inferr = log.filter(lambda elemento: elemento[0]=='I' or elemento[0]=='E')\n",
        "\n",
        "print (inferr.collect())"
      ],
      "metadata": {
        "colab": {
          "base_uri": "https://localhost:8080/"
        },
        "id": "3awmizLLErbf",
        "outputId": "6fd03ba6-94d0-4c03-cbf1-682e6a1015c4"
      },
      "execution_count": 12,
      "outputs": [
        {
          "output_type": "stream",
          "name": "stdout",
          "text": [
            "['E: e21', 'I: i11', 'I: i11', 'E: e45']\n"
          ]
        }
      ]
    },
    {
      "cell_type": "markdown",
      "source": [
        "Así obtenemos el mismo resultado que anteriormente pero utilizando solamente una función (y sin realizar la unión)."
      ],
      "metadata": {
        "id": "ArDna0JaEugn"
      }
    },
    {
      "cell_type": "markdown",
      "source": [
        "#### Pregunta TS1.9 ¿Cómo explica el funcionamiento de las celdas anteriores?\n",
        "\n",
        "Las celdas a las que hace referencia esta pregunta son las que están en formato code."
      ],
      "metadata": {
        "id": "Ipj_GRVmI3cd"
      }
    },
    {
      "cell_type": "code",
      "source": [
        "numeros = sc.parallelize([1,2,3,4,5])\n",
        "\n",
        "print (numeros.reduce(lambda elem1,elem2: elem2+elem1))\n",
        "print (numeros.reduce(lambda elem1,elem2: elem2-elem1))"
      ],
      "metadata": {
        "colab": {
          "base_uri": "https://localhost:8080/"
        },
        "id": "9INp0kLBFJqM",
        "outputId": "2dee6300-5c52-47a6-a7fb-72dc3b5729f6"
      },
      "execution_count": 13,
      "outputs": [
        {
          "output_type": "stream",
          "name": "stdout",
          "text": [
            "15\n",
            "3\n"
          ]
        }
      ]
    },
    {
      "cell_type": "code",
      "source": [
        "palabras = sc.parallelize(['HOLA', 'Que', 'TAL', 'Bien'],2)\n",
        "\n",
        "pal_minus = palabras.map(lambda elemento: elemento.lower())\n",
        "\n",
        "print (pal_minus.reduce(lambda elem1,elem2: elem1+\"-\"+elem2))\n",
        "print (pal_minus.reduce(lambda elem1,elem2: elem2+\"-\"+elem1))\n",
        "\n",
        "# Otro ejemplo de paralelización\n",
        "palabras = sc.parallelize(['HOLA', 'Que', 'TAL', 'Bien'],4)\n",
        "\n",
        "pal_minus = palabras.map(lambda elemento: elemento.lower())\n",
        "\n",
        "print (pal_minus.reduce(lambda elem1,elem2: elem1+\"-\"+elem2))\n",
        "print (pal_minus.reduce(lambda elem1,elem2: elem2+\"-\"+elem1))"
      ],
      "metadata": {
        "colab": {
          "base_uri": "https://localhost:8080/"
        },
        "id": "IFOu5QuiFJjS",
        "outputId": "fae726db-6c35-4439-8ed1-76cddd6251e6"
      },
      "execution_count": 14,
      "outputs": [
        {
          "output_type": "stream",
          "name": "stdout",
          "text": [
            "hola-que-tal-bien\n",
            "bien-tal-que-hola\n",
            "hola-que-tal-bien\n",
            "bien-tal-que-hola\n"
          ]
        }
      ]
    },
    {
      "cell_type": "markdown",
      "source": [
        "En este ejemplo se puede entender la diferencia entre el uso de `map` y `reduce` para floats y strings.\n",
        "\n",
        "Como se ha comentado, el uso de `reduce` para floats solo tiene sentido si la operación es conmutativa pues al paralelizar se pierde la información del orden de los elementos y por tanto, la suma siempre nos devuelve el mismo resultado pero la resta nos devuelve resultados diferentes en función del número de grupos en los que se divide el RDD para paralelizar y del orden de los elementos del RDD.\n",
        "\n",
        "El uso de `map` en nuestro RDD de strings aplica la función de parámetro `lambda` (en nuestro caso pasar todas las mayúsculas a minúsculas) a los elementos de nuestro RDD. Esto lo hace para cada caracter del elemento. El uso de `reduce` aplica la función de parámetro `lambda` (en nuestro caso unir los elementos contiguos en orden ascendente u orden descendente creando un solo string unidos por guiones) a los elementos del RDD devuelto tras `map`.\n",
        "\n",
        "Sin embargo, como se ve en el ejemplo mostrado, en el caso de strings sí que se mantiene el orden de los elementos al realizar `map` sin importar el número de grupos que se divide para paralelizar, y por tanto se obtienen los mismos resultados, a diferencia del caso de la resta. Esto no ocurre si cambiamos el orden de los elementos, similar al caso de la resta."
      ],
      "metadata": {
        "id": "3yBh2uJEJPKr"
      }
    },
    {
      "cell_type": "code",
      "source": [
        "r = sc.parallelize([('A', 1),('C', 4),('A', 1),('B', 1),('B', 4)])\n",
        "rr = r.reduceByKey(lambda v1,v2:v1+v2)\n",
        "print (rr.collect())"
      ],
      "metadata": {
        "colab": {
          "base_uri": "https://localhost:8080/"
        },
        "id": "PdkUgdEAI7qP",
        "outputId": "2e47a067-0da5-4655-a94d-42a7d278da9c"
      },
      "execution_count": 15,
      "outputs": [
        {
          "output_type": "stream",
          "name": "stdout",
          "text": [
            "[('C', 4), ('A', 2), ('B', 5)]\n"
          ]
        }
      ]
    },
    {
      "cell_type": "code",
      "source": [
        "r = sc.parallelize([('A', 1),('C', 4),('A', 1),('B', 1),('B', 4)])\n",
        "rr1 = r.reduceByKey(lambda v1,v2:v1+v2)\n",
        "print (rr1.collect())\n",
        "rr2 = rr1.reduceByKey(lambda v1,v2:v1)\n",
        "print (rr2.collect())\n",
        "\n",
        "# Otro ejemplo de reduceByKey\n",
        "rr2 = r.reduceByKey(lambda v1,v2:v1)\n",
        "print (rr2.collect())"
      ],
      "metadata": {
        "colab": {
          "base_uri": "https://localhost:8080/"
        },
        "id": "Xht0NWWtE-qu",
        "outputId": "92cc8a46-2aaf-442e-bbca-1f4afa9a11c7"
      },
      "execution_count": 16,
      "outputs": [
        {
          "output_type": "stream",
          "name": "stdout",
          "text": [
            "[('C', 4), ('A', 2), ('B', 5)]\n",
            "[('C', 4), ('A', 2), ('B', 5)]\n",
            "[('C', 4), ('A', 1), ('B', 1)]\n"
          ]
        }
      ]
    },
    {
      "cell_type": "markdown",
      "source": [
        "En estos casos, el RDD de entrada tiene como elementos tuplas (que contienen pares clave-valor).\n",
        "\n",
        "Para el primer caso, mediante el uso de `reduceByKey` y de la función `lambda v1,v2:v1+v2` se agregan los valores de las tuplas que contienen la misma clave (en nuestro caso letras). De esta forma se obtiene como salida un RDD cuyos elementos son tuplas, que conservan los mismos valores para las claves y que los valores se han sumado, resultado los valores en el total de la suma de los valores para cada clave.\n",
        "\n",
        "Para el segundo caso, mediante el uso de `ReducebyKey` al RDD de salida de la celda previa se aplica la función `lambda v1,v2:v1` que simplemente devuelve el primer valor e ignora el resto. Es decir, que cuando hay varios valores para una misma clave, se reduce únicamente tomando el primer valor y se descarta el resto de valores. Como ya no hay valores duplicados por clave en el RDD nuevo, esta operación no cambia los valores para `rdd1` porque no hay más de un valor para reducir. Sin embargo, si hacemos esta operación para el RDD `r` lo que observamos es lo descrito justamente, que únicamente se devuelven los primeros valores asociados a las claves, descartando el resto y conservando el valor inicial.\n",
        "\n",
        "Es importante saber aplicar la función `reduce` correctamente sobre los RDD puesto que dependiendo de la operación que se realice se pueden obtener resultados que no son los esperados o deseados.\n",
        "\n"
      ],
      "metadata": {
        "id": "p74BDGHYFV3v"
      }
    },
    {
      "cell_type": "markdown",
      "source": [
        "#### TS1.10 Responda a las preguntas planteadas al hacer los cambios sugeridos en las siguiente celdas.\n",
        "\n",
        "##### ¿Qué operación se puede realizar al RDD `rr` para que la operación sea como un `reduceByKey`? ¿Y simular un `groupByKey` con un `reduceByKey` y un `map`?"
      ],
      "metadata": {
        "id": "iwmn35-gJBw0"
      }
    },
    {
      "cell_type": "code",
      "source": [
        "r = sc.parallelize([('A', 1),('C', 2),('A', 3),('B', 4),('B', 5)])\n",
        "rr = r.groupByKey()\n",
        "res = rr.collect()\n",
        "\n",
        "for k,v in res:\n",
        "    print (k, list(v))"
      ],
      "metadata": {
        "colab": {
          "base_uri": "https://localhost:8080/"
        },
        "id": "UQHdDeEaJHl0",
        "outputId": "5451f0ff-e3c3-41aa-eaf2-24599f7edcb5"
      },
      "execution_count": 17,
      "outputs": [
        {
          "output_type": "stream",
          "name": "stdout",
          "text": [
            "C [2]\n",
            "A [1, 3]\n",
            "B [4, 5]\n"
          ]
        }
      ]
    },
    {
      "cell_type": "markdown",
      "source": [
        "\n",
        "\n",
        "Ahora se utiliza la función `groupByKey` en lugar de `reduceByKey`. Esta función lo que hace, si no se le pasa ninguna función parámetro es, como su nombre indica, juntar los valores por clave. Ya no los agrega como en el caso anterior sino que devuelve una tupla clave-lista donde en la lista se guardan los valores de los elementos que comparten una misma clave (técnicamente no son tuplas clave-lista sino clave-pyspark.resultiterable.ResultIterable object. Estos iterables se pasan a una lista (es lo que hace el bucle `for`) y luego son mostrados).\n",
        "\n",
        "Para que la operación `groupByKey` se parezca a lo que hace `reduceByKey` deberíamos sumar los valores de cada clave (o realizar una operación de reducción) ya que `reduceByKey` toma todos los valores de una clave y los combina agregándolos. Para ello, podemos aplicar la función `mapValues` y le pasamos como argumento una función que sume los valores de cada grupo.\n",
        "\n",
        "De forma similar, se puede utilizar la función `map` tras usar `groupByKey` para asignar a cada tupla un elemento de un vector, para la clave se asigna el 0 y para la lista se le asigna el 1. De esta forma, luego aplicamos `sum` a los elementos 1 de los vectores mediante otra función `map` para que se sumen estos elementos de las listas. Es esto precisamente lo que aplica `mapValues` pero de forma más primaria, ya que solo estamos utilizando funciones `map`.\n",
        "\n",
        "Se muestran los resultados de los dos métodos descritos:"
      ],
      "metadata": {
        "id": "zG_sInap5Gio"
      }
    },
    {
      "cell_type": "code",
      "source": [
        "r = sc.parallelize([('A', 1),('C', 2),('A', 3),('B', 4),('B', 5)])\n",
        "\n",
        "rr = r.groupByKey()\n",
        "res1 = rr.mapValues(lambda v: sum(v))\n",
        "print(res1.collect())"
      ],
      "metadata": {
        "colab": {
          "base_uri": "https://localhost:8080/"
        },
        "id": "wr4amsVeBcqr",
        "outputId": "aacdd2be-617c-499a-aeaa-d93fdc0a0caa"
      },
      "execution_count": 18,
      "outputs": [
        {
          "output_type": "stream",
          "name": "stdout",
          "text": [
            "[('C', 2), ('A', 4), ('B', 9)]\n"
          ]
        }
      ]
    },
    {
      "cell_type": "code",
      "source": [
        "r = sc.parallelize([('A', 1),('C', 2),('A', 3),('B', 4),('B', 5)])\n",
        "\n",
        "rr = r.groupByKey()\n",
        "res1 = rr.map(lambda v: (v[0], list(v[1])))\n",
        "res2 = res1.map(lambda v: (v[0], sum(v[1])))\n",
        "print(res2.collect())"
      ],
      "metadata": {
        "colab": {
          "base_uri": "https://localhost:8080/"
        },
        "id": "ogC-u1WtWI5B",
        "outputId": "de30944e-fc2a-4aca-e778-101d51e8cbc7"
      },
      "execution_count": 19,
      "outputs": [
        {
          "output_type": "stream",
          "name": "stdout",
          "text": [
            "[('C', 2), ('A', 4), ('B', 9)]\n"
          ]
        }
      ]
    },
    {
      "cell_type": "markdown",
      "source": [
        "Ambos hacen exactamente lo mismo, que era lo que buscábamos, una simulación de `reduceByKey`."
      ],
      "metadata": {
        "id": "l-EUvwgRWImK"
      }
    },
    {
      "cell_type": "markdown",
      "source": [
        "Ahora, para simular un `groupByKey` utilizando `reduceByKey` y la lista que recoge los valores podemos utilizar `map` que convierte los valores en listas y luego utilizar `reduceByKey` que concatena los valores en esas listas juntándolos por clave. Así se obtiene:"
      ],
      "metadata": {
        "id": "TggoAC5hCAD0"
      }
    },
    {
      "cell_type": "code",
      "source": [
        "r = sc.parallelize([('A', 1),('C', 2),('A', 3),('B', 4),('B',5)])\n",
        "\n",
        "res2 = r.map(lambda x: (x[0], x[1])).reduceByKey(lambda v1,v2: [v1,v2])\n",
        "print(res2.collect())"
      ],
      "metadata": {
        "colab": {
          "base_uri": "https://localhost:8080/"
        },
        "id": "jqHdofNtCZeu",
        "outputId": "53a3a01f-f42d-4171-db19-ceb8bf0c96eb"
      },
      "execution_count": 20,
      "outputs": [
        {
          "output_type": "stream",
          "name": "stdout",
          "text": [
            "[('C', 2), ('A', [1, 3]), ('B', [4, 5])]\n"
          ]
        }
      ]
    },
    {
      "cell_type": "markdown",
      "source": [
        "Que hace la misma operación que veíamos antes con `groupByKey`."
      ],
      "metadata": {
        "id": "y2zJKlGjC0xl"
      }
    },
    {
      "cell_type": "markdown",
      "source": [
        "##### Prueba a cambiar las claves del rdd1 y rdd2 para ver cuántos elementos se crean"
      ],
      "metadata": {
        "id": "-hWu7UJYBkmy"
      }
    },
    {
      "cell_type": "code",
      "source": [
        "rdd1 = sc.parallelize([('A',1),('B',2),('C',3)])\n",
        "rdd2 = sc.parallelize([('A',4),('B',5),('C',6)])\n",
        "\n",
        "rddjoin = rdd1.join(rdd2)\n",
        "\n",
        "print (rddjoin.collect())\n",
        "\n",
        "# Cambio de las claves\n",
        "rdd1 = sc.parallelize([('A',1),('B',2),('C',3)])\n",
        "rdd2 = sc.parallelize([('A',4),('D',5),('B',6)])\n",
        "\n",
        "rddjoin = rdd1.join(rdd2)\n",
        "\n",
        "print (rddjoin.collect())"
      ],
      "metadata": {
        "colab": {
          "base_uri": "https://localhost:8080/"
        },
        "id": "-DsOhUq638I1",
        "outputId": "87f90261-561c-4946-f9b7-81ae22e42959"
      },
      "execution_count": 21,
      "outputs": [
        {
          "output_type": "stream",
          "name": "stdout",
          "text": [
            "[('A', (1, 4)), ('B', (2, 5)), ('C', (3, 6))]\n",
            "[('A', (1, 4)), ('B', (2, 6))]\n"
          ]
        }
      ]
    },
    {
      "cell_type": "markdown",
      "source": [
        "Cuando se aplica la función `join` sobre un RDD, el resultado devuelto son tuplas que contienen los valores agrupados por clave. Al cambiar la clave, se observa que aquellas claves que únicamente tienen un valor asociado son descartadas, y por tanto, la función `join` solamente junta los elementos del RDD que comparten clave y descarta aquellos que tienen claves únicas.\n",
        "\n",
        "La función `join` hace la unión de dos RDD cuyas claves son compartidas entre sí. Ni `C` y `D` se encuentran en ambos por lo que no aparecen en el RDD de salida final."
      ],
      "metadata": {
        "id": "GP3gPoLk5H5S"
      }
    },
    {
      "cell_type": "markdown",
      "source": [
        "##### Modifica `join` por `leftOuterJoin`, `rightOuterJoin` y `fullOuterJoin`. ¿Qué sucede?"
      ],
      "metadata": {
        "id": "EwdbCv9ZHBGN"
      }
    },
    {
      "cell_type": "code",
      "source": [
        "# join por leftOuterJoin\n",
        "rdd1 = sc.parallelize([('A',1),('B',2),('C',3)])\n",
        "rdd2 = sc.parallelize([('A',4),('A',5),('B',6),('D',7)])\n",
        "\n",
        "rddjoin = rdd1.leftOuterJoin(rdd2)\n",
        "\n",
        "print (rddjoin.collect())\n",
        "\n",
        "# join por rightOuterJoin\n",
        "rdd1 = sc.parallelize([('A',1),('B',2),('C',3)])\n",
        "rdd2 = sc.parallelize([('A',4),('A',5),('B',6),('D',7)])\n",
        "\n",
        "rddjoin = rdd1.rightOuterJoin(rdd2)\n",
        "\n",
        "print (rddjoin.collect())\n",
        "\n",
        "# join por fullOuterJoin\n",
        "rdd1 = sc.parallelize([('A',1),('B',2),('C',3)])\n",
        "rdd2 = sc.parallelize([('A',4),('A',5),('B',6),('D',7)])\n",
        "\n",
        "rddjoin = rdd1.fullOuterJoin(rdd2)\n",
        "\n",
        "print (rddjoin.collect())"
      ],
      "metadata": {
        "colab": {
          "base_uri": "https://localhost:8080/"
        },
        "id": "9C6D0Cxx379H",
        "outputId": "86b6bb5a-8a3f-4055-fec9-14d26db608ad"
      },
      "execution_count": 22,
      "outputs": [
        {
          "output_type": "stream",
          "name": "stdout",
          "text": [
            "[('A', (1, 4)), ('A', (1, 5)), ('B', (2, 6)), ('C', (3, None))]\n",
            "[('A', (1, 4)), ('A', (1, 5)), ('B', (2, 6)), ('D', (None, 7))]\n",
            "[('A', (1, 4)), ('A', (1, 5)), ('B', (2, 6)), ('C', (3, None)), ('D', (None, 7))]\n"
          ]
        }
      ]
    },
    {
      "cell_type": "markdown",
      "source": [
        "Según el tipo de `join` utilizado, se obtiene un RDD de salida diferente:\n",
        "* `leftOuterJoin`: al nuevo RDD se añaden las tuplas clave-valor cuya clave se encuentra en el RDD sobre el que se llama la función pero que no estén en el RDD de parámetro. Si hay una clave en el RDD sobre el que se llama la función pero no se encuentra en el RDD que se pasa como parámetro se añade `None` en la tupla del RDD final con la clave del RDD sobre el que se pasa la función.\n",
        "* `rightOuterJoin`: al nuevo RDD se añaden las tuplas clave-valor cuya clave se encuentra en el RDD de parámetro pero que no estén en el RDD sobre el que se llama la función. Si hay una clave en el RDD sobre el que se pasa como parámetro pero no se encuentra en el RDD sobre el que se llama la función se añade `None` en la tupla del RDD final con la clave del RDD que se pasa como parámetro. Es similar a `leftOuterJoin` pero en sentido opuesto.\n",
        "* `fullOuterJoin`: al nuevo RDD se añaden las tuplas clave-valor cuya clave se encuentra en el RDD sobre el que se llama la función y también se añaden las clases que estén en el RDD de parámetro. Si hay una clave en el RDD sobre el que se llama la función pero no se encuentra en el RDD que se pasa como parámetro, o viceversa, se añade `None` en la tupla del RDD final con la clave del RDD sobre el que se pasa la función y viceversa.\n"
      ],
      "metadata": {
        "id": "KHnI6DAm5JI6"
      }
    },
    {
      "cell_type": "markdown",
      "source": [
        "#### Pregunta TS1.11 Borra la salida y cambia las particiones en `parallelize`. ¿Qué sucede?"
      ],
      "metadata": {
        "id": "lXV1pyA-JLbM"
      }
    },
    {
      "cell_type": "code",
      "source": [
        "# Borramos el contenido del directorio\n",
        "!rm -r /content/salida\n",
        "\n",
        "numeros = sc.parallelize(range(0,1000),8)\n",
        "numeros.saveAsTextFile('salida')\n",
        "\n",
        "%ls -la salida/*"
      ],
      "metadata": {
        "colab": {
          "base_uri": "https://localhost:8080/"
        },
        "id": "GWchb9CSJMm4",
        "outputId": "c2d9612b-58a1-4dcd-a386-b443c28df22c"
      },
      "execution_count": 23,
      "outputs": [
        {
          "output_type": "stream",
          "name": "stdout",
          "text": [
            "-rw-r--r-- 1 root root 390 Oct 15 17:11 salida/part-00000\n",
            "-rw-r--r-- 1 root root 500 Oct 15 17:11 salida/part-00001\n",
            "-rw-r--r-- 1 root root 500 Oct 15 17:11 salida/part-00002\n",
            "-rw-r--r-- 1 root root 500 Oct 15 17:11 salida/part-00003\n",
            "-rw-r--r-- 1 root root 500 Oct 15 17:11 salida/part-00004\n",
            "-rw-r--r-- 1 root root 500 Oct 15 17:11 salida/part-00005\n",
            "-rw-r--r-- 1 root root 500 Oct 15 17:11 salida/part-00006\n",
            "-rw-r--r-- 1 root root 500 Oct 15 17:11 salida/part-00007\n",
            "-rw-r--r-- 1 root root   0 Oct 15 17:11 salida/_SUCCESS\n"
          ]
        }
      ]
    },
    {
      "cell_type": "markdown",
      "source": [
        "Una vez hemos corrido el código y hemos cambiado el número de particiones, si realizamos 8 particiones de nuestro RDD y lo guardamos como ficheros de texto (siempre y cuando hayamos borrado anteriormente el contenido del directorio donde tenemos la salida), como era de esperar, se han creado 8 archivos, uno para cada una de las particiones de salida."
      ],
      "metadata": {
        "id": "s012bODiCSc3"
      }
    },
    {
      "cell_type": "markdown",
      "source": [
        "## 2.1 El Quijote"
      ],
      "metadata": {
        "id": "l4FCQT_zJmf5"
      }
    },
    {
      "cell_type": "markdown",
      "source": [
        "#### Pregunta TS2.1 Explica la utilidad de cada transformación y detalle para cada una de ellas si cambia el número de elementos en el RDD resultante. Es decir si el RDD de partida tiene $N$ elementos, y el de salida $M$ elementos, indica si $N>M$, $N=M$ o $N<M$.\n",
        "\n",
        "Dado el código:"
      ],
      "metadata": {
        "id": "3XpI2cP3D8ar"
      }
    },
    {
      "cell_type": "code",
      "source": [
        "quijote = sc.textFile(\"quijote.txt\")\n",
        "\n",
        "charsPerLine = quijote.map(lambda s: len(s))\n",
        "allWords = quijote.flatMap(lambda s: s.split())\n",
        "allWordsNoArticles = allWords.filter(lambda a: a.lower() not in [\"el\", \"la\"])\n",
        "allWordsUnique = allWords.map(lambda s: s.lower()).distinct()\n",
        "sampleWords = allWords.sample(withReplacement=True, fraction=0.2, seed=666)\n",
        "weirdSampling = sampleWords.union(allWordsNoArticles.sample(False, fraction=0.3))"
      ],
      "metadata": {
        "id": "IIxwxG6sERv8"
      },
      "execution_count": 24,
      "outputs": []
    },
    {
      "cell_type": "markdown",
      "source": [
        "Vamos primero a explicar la función de cada una de las transformaciones aplicadas al texto. Es necesario conocer que el texto de El Quijote es un RDD cuyos elementos son strings que representan las filas del texto.\n",
        "\n",
        "* `charsPerLine = quijote.map(lambda s: len(s))`: esta transformación obtiene un nuevo RDD que cambia cada línea del texto de El Quijote por la longitud de la línea. Este RDD contiene el mismo número de elementos que el texto originial, es decir, que $N=M$.\n",
        "\n",
        "* `allWords = quijote.flatMap(lambda s: s.split())`: esta transformación obtiene un nuevo RDD que separa cada uno de los strings del texto original en cada una de las palabras que lo forman. Luego, cada palabra se convierte en un elemento del nuevo RDD (es lo que vimos en la pregunta 5 anterior, cómo se comportaba `flatMap`). Este nuevo RDD contiene más elementos que el RDD de entrada por lo que $N<M$.\n",
        "\n",
        "* `allWordsNoArticles = allWords.filter(lambda a: a.lower() not in [\"el\", \"la\"])`: esta transformación obtiene un nuevo RDD que toma el RDD que posee las palabras separadas (el RDD `allWords`) y elimina todos los artículos \"el\" y \"la\" de dicho RDD (tanto los que se encuentran en mayúscula como los que se encuentran en minúscula, gracias a `lower`). Como se eliminan algunos elementos, el número de elementos del RDD de salida es menor que el número de elementos del RDD de entrada y por tanto, $N>M$.\n",
        "\n",
        "* `allWordsUnique = allWords.map(lambda s: s.lower()).distinct()`: esta transformación obtiene un nuevo RDD que toma el RDD que posee las palabras separadas (el RDD `allWords`) y elimina todas las palabras repetidas de forma que los elementos que lo forman son palabras distintas (tanto los que se encuentran en mayúscula como los que se encuentran en minúscula, gracias a `lower`). Como se eliminan algunos elementos, el número de elementos del RDD de salida es menor que el número de elementos del RDD de entrada y por tanto, $N>M$.\n",
        "\n",
        "* `sampleWords = allWords.sample(withReplacement=True, fraction=0.2, seed=666)`: esta transformación obtiene un nuevo RDD que toma el RDD que posee las palabras separadas (el RDD `allWords`) y extrae de forma aleatoria (usando `sample`) un 20% de las palabras que hay en el RDD de entrada pero con reemplazo, es decir, que se selecciona un elemento para escoger y más adelante se podría vovler a seleccionar. De esta forma, se crea un nuevo RDD de tamaño $M=0.2N$ y por tanto, $N>M$.\n",
        "\n",
        "* `weirdSampling = sampleWords.union(allWordsNoArticles.sample(False, fraction=0.3))`: esta transformación obtiene un nuevo RDD que toma el RDD que se ha obtenido filtrando los artículos (el RDD `allWordsNoArticles`) y extrae de forma aleatoria (usando `sample`) un 30% de las palabras que hay en este RDD de entrada pero sin reemplazo, es decir, que se selecciona un elemento para escoger y no se podría vovler a seleccionar. Luego realiza la unión de este RDD de palabras sin artículos filtrado y del RDD de palabras seleccionadas aleatoriamente `sampleWords`. Debido a esta unión, el RDD de salida es más grande que el RDD de entrada `sampleWords` puesto que se le añade un RDD con muchos elementos. Por tanto, $N<M$.\n",
        "\n",
        "Ahora se va a explicar el uso de las funciones indicadas y si en general cambia el número de elementos del RDD de salida:\n",
        "\n",
        "* `map`: hace una transformación del RDD pasándole una función como parámetro. La transformación depende de la función que se introduce como parámetro. El número de elementos del RDD de salida es el mismo que el del RDD de entrada ya que aplica la función elemento a elemento y no se elimina o se crean nuevos elementos por lo que $N=M$.\n",
        "\n",
        "* `flatMap`: hace una transformación del RDD pasándole una función como parámetro. La transformación depende de la función que se introduce como parámetro. Si los elementos son vectores, hace que cada término del vector sea un elemento nuevo del RDD por lo que el número de elementos del RDD de salida es mayor o igual (si todos los vectores tienen dimensión 1). Así, $N \\leq M$\n",
        "\n",
        "* `filter`: selecciona un conjunto de elementos en función de la función que se le pasa como parámetro, que representa una condición. Como dicha condición la pueden cumplir todos o solo un subconjunto de elementos, tenemos que $N\\leq M$.\n",
        "\n",
        "* `distinct`: selecciona los elementos del RDD que son diferentes a los demás, los que no se repiten (los únicos). Como esto puede ocurrir para todos los elementos o solo un suboconjunto de ellos tenemos que $N \\leq M$.\n",
        "\n",
        "* `sample`: selecciona de forma aleatoria una muestra de elementos del RDD de entrada. El tamaño de esta muestra puede ser igual al número original o menor si se especifica tomar una selección de elementos menor. Por tanto, $N \\leq M$.\n",
        "\n",
        "* `union`: toma un RDD y lo une a otro diferente, según una condición que se le pasa como parámetro. En general, la unión de estos dos RDD produce uno de mayor tamaño y por tanto, $N \\leq M$."
      ],
      "metadata": {
        "id": "TLmhkZ8pGxdD"
      }
    },
    {
      "cell_type": "markdown",
      "source": [
        "#### Pregunta TS2.2 Explica el funcionamiento de cada acción anterior.\n",
        "\n",
        "La celda a la que hace referencia es:"
      ],
      "metadata": {
        "id": "ZJP_s3IKELtS"
      }
    },
    {
      "cell_type": "code",
      "source": [
        "numLines = quijote.count()\n",
        "numChars = charsPerLine.reduce(lambda a,b: a+b) # also charsPerLine.sum()\n",
        "sortedWordsByLength = allWordsNoArticles.takeOrdered(20, key=lambda x: -len(x))\n",
        "numLines, numChars, sortedWordsByLength"
      ],
      "metadata": {
        "colab": {
          "base_uri": "https://localhost:8080/"
        },
        "id": "EcZHuruLEOCd",
        "outputId": "6544df6f-1369-4042-ead0-50c928279e81"
      },
      "execution_count": 25,
      "outputs": [
        {
          "output_type": "execute_result",
          "data": {
            "text/plain": [
              "(5534,\n",
              " 305678,\n",
              " ['procuremos.Levántate,',\n",
              "  'estrechísimamente,',\n",
              "  'Pintiquiniestra,',\n",
              "  'entretenimiento,',\n",
              "  'maravillosamente',\n",
              "  'descansadamente;',\n",
              "  'desenfadadamente',\n",
              "  'quebrantamientos',\n",
              "  'quebrantamiento,',\n",
              "  'alternativamente',\n",
              "  'encantamientos,',\n",
              "  'Placerdemivida,',\n",
              "  'encantamientos;',\n",
              "  'malbaratándolas',\n",
              "  'regocijadamente',\n",
              "  'consentimiento,',\n",
              "  'desaconsejaban,',\n",
              "  'acontecimiento.',\n",
              "  'agradeciéndoles',\n",
              "  'encantamientos,'])"
            ]
          },
          "metadata": {},
          "execution_count": 25
        }
      ]
    },
    {
      "cell_type": "markdown",
      "source": [
        "Similarmente a la pregunta anterior, vamos a estudiar línea a línea las acciones anteriores:\n",
        "\n",
        "* `numLines = quijote.count()`: esta transformación obtienea partir del RDD original, que contiene el texto de El Quijote por filas, el número de elementos del RDD (en este caso el número de líneas que tiene El Quijote).\n",
        "\n",
        "* `numChars = charsPerLine.reduce(lambda a,b: a+b)`: esta transformación obtiene un nuevo RDD que toma el RDD del ejercicio anterior, cuyos elementos la longitud de cada una de las líneas de El Quijote y las suma, obteniendo así el número de caracteres totales.\n",
        "\n",
        "* `sortedWordsByLength = allWordsNoArticles.takeOrdered(20, key=lambda x: -len(x))`: esta transformación obtiene un nuevo RDD que toma el RDD del ejercicio anterior, cuyos elementos son todas las palabras de El Quijote excepto los artículos \"el\" y \"la\" y toma las 20 palabras (claves) que tienen una mayor longitud (debido al `-len(x)`), como se muestra en la pantalla."
      ],
      "metadata": {
        "id": "yabPT4amCEZD"
      }
    },
    {
      "cell_type": "markdown",
      "source": [
        "Implementa la opción `count` de otra manera:\n",
        "\n",
        "\n",
        "* Utilizando transformaciones `map` y `reduce`.\n",
        "* Utilizando solo `reduce` en caso de que sea posible."
      ],
      "metadata": {
        "id": "PCgtXv3PB9L1"
      }
    },
    {
      "cell_type": "code",
      "source": [
        "# Implementación de count usando map y reduce\n",
        "numLines = quijote.map(lambda s: 1).reduce(lambda a,b: a+b)\n",
        "print(numLines)\n",
        "\n",
        "# Implementación de count usando solo reduce\n",
        "# Debemos crear una función que se introduzca como parámetro a reduce que\n",
        "# transforme los elementos del RDD a 1s\n",
        "def f(a,b):\n",
        "  elem1 = 1 if type(a)==str else a\n",
        "  elem2 = 1 if type(b)==str else b\n",
        "  return elem1+elem2\n",
        "\n",
        "\"\"\"\n",
        "quijote = ['Primera línea', 'Segunda línea', 'Tercera línea']\n",
        "f('Primera línea', 'Segunda línea') → 1 + 1 → devuelve 2\n",
        "Ahora, reduce() toma el resultado anterior (2) y lo aplica a la siguiente fila:\n",
        "f(2, 'Tercera línea') → 2 + 1 → devuelve 3.\n",
        "\"\"\"\n",
        "\n",
        "numLines = quijote.reduce(f)\n",
        "print(numLines)\n"
      ],
      "metadata": {
        "colab": {
          "base_uri": "https://localhost:8080/"
        },
        "id": "9-ntcVJVB-Eg",
        "outputId": "a931c718-ee61-4526-cf5d-98f8705dbbc6"
      },
      "execution_count": 26,
      "outputs": [
        {
          "output_type": "stream",
          "name": "stdout",
          "text": [
            "5534\n",
            "5534\n"
          ]
        }
      ]
    },
    {
      "cell_type": "markdown",
      "source": [
        "Como se puede comprobar, los resultados en ambas situaciones son los mismos y también son iguales al resultado de `count`, por lo que se ha implementado de forma correcta."
      ],
      "metadata": {
        "id": "icm346n-JS8d"
      }
    },
    {
      "cell_type": "markdown",
      "source": [
        "#### Pregunta TS2.3 Explica el propósito de cada una de las operaciones anteriores.\n",
        "\n",
        "Las operaciones anteriores se refieren al código mostrado en las diferentes celdas que aparecen a continuación."
      ],
      "metadata": {
        "id": "8v1JCAdaERbU"
      }
    },
    {
      "cell_type": "code",
      "source": [
        "import requests\n",
        "import re\n",
        "allWords = allWords.flatMap(lambda w: re.sub(\"\"\";|:|\\.|,|-|–|\"|'|\\s\"\"\",\" \", w.lower()).split(\" \")).filter(lambda a: len(a)>0)\n",
        "allWords2 = sc.parallelize(requests.get(\"https://gist.githubusercontent.com/jsdario/9d871ed773c81bf217f57d1db2d2503f/raw/585de69b0631c805dabc6280506717943b82ba4a/el_quijote_ii.txt\").iter_lines())\n",
        "allWords2 = allWords2.flatMap(lambda w: re.sub(\"\"\";|:|\\.|,|-|–|\"|'|\\s\"\"\",\" \", w.decode(\"utf8\").lower()).split(\" \")).filter(lambda a: len(a)>0)\n",
        "\n",
        "print(allWords.take(10))\n",
        "print(allWords2.take(10))"
      ],
      "metadata": {
        "colab": {
          "base_uri": "https://localhost:8080/"
        },
        "id": "8mArpBdNEU3h",
        "outputId": "5d8067a8-7379-4ce2-db45-6a0ed4068e21"
      },
      "execution_count": 27,
      "outputs": [
        {
          "output_type": "stream",
          "name": "stdout",
          "text": [
            "['el', 'ingenioso', 'hidalgo', 'don', 'quijote', 'de', 'la', 'mancha', 'miguel', 'de']\n",
            "['don', 'quijote', 'de', 'la', 'mancha', 'miguel', 'de', 'cervantes', 'saavedra', 'segunda']\n"
          ]
        }
      ]
    },
    {
      "cell_type": "markdown",
      "source": [
        "En este código se importa la librería `request` que sirve para hacer peticiones en internet y la librería `re` que sirve para trabajar con expresiones regulares. Luego se crean dos RDD.\n",
        "\n",
        "En el primero (`allWords`), sus elementos son las palabras que componen el texto de El Quijote que hemos estado trabajando (se utiliza `flatMap` para pasar de elementos de líneas a elementos de palabras) pero se eliminan todos los caracteres que no forman palabras (puntos, comas, dos puntos, comillas...). En el segundo (`allWords2`), se escoge un texto de internet que contiene la segunda parte de El Quijote y se paraleliza creando un RDD. Luego, se obtienen todas sus palabras utilizando `flatMap` y se eliminan como en el caso anterior todos los caracteres que no forman parte de ninguna palabra. Así, se obtienen dos RDD cuyos elementos son las líneas en formato de string de la primera y de la segunda parte de El Quijote.\n",
        "\n",
        "Finalmente se muestran los 10 primeros elementos de cada uno de los RDD creados, es decir, las 10 primeras palabras de cada uno de los textos."
      ],
      "metadata": {
        "id": "RyYORfZTLzfS"
      }
    },
    {
      "cell_type": "code",
      "source": [
        "words = allWords.map(lambda e: (e,1))\n",
        "words2 = allWords2.map(lambda e: (e,1))\n",
        "words.take(10)"
      ],
      "metadata": {
        "colab": {
          "base_uri": "https://localhost:8080/"
        },
        "id": "goAoFo4NKQzc",
        "outputId": "bbcbea79-776b-4df9-8c87-6349fc5f8e61"
      },
      "execution_count": 28,
      "outputs": [
        {
          "output_type": "execute_result",
          "data": {
            "text/plain": [
              "[('el', 1),\n",
              " ('ingenioso', 1),\n",
              " ('hidalgo', 1),\n",
              " ('don', 1),\n",
              " ('quijote', 1),\n",
              " ('de', 1),\n",
              " ('la', 1),\n",
              " ('mancha', 1),\n",
              " ('miguel', 1),\n",
              " ('de', 1)]"
            ]
          },
          "metadata": {},
          "execution_count": 28
        }
      ]
    },
    {
      "cell_type": "markdown",
      "source": [
        "En esta celda se crean dos RDD nuevos que toman los dos RDD anteriores y se transforman en tuplas clave-valor, cada clave (palabra) tomando un 1 como valor. Se muestran luego los 10 primeros elementos de un RDD."
      ],
      "metadata": {
        "id": "jeZA1-vQN96b"
      }
    },
    {
      "cell_type": "code",
      "source": [
        "frequencies = words.reduceByKey(lambda a,b: a+b)\n",
        "frequencies2 = words2.reduceByKey(lambda a,b: a+b)\n",
        "frequencies.takeOrdered(10, key=lambda a: -a[1])"
      ],
      "metadata": {
        "colab": {
          "base_uri": "https://localhost:8080/"
        },
        "id": "Q95e7hKkKJhS",
        "outputId": "b0fb6b4e-3cf2-4fa2-e181-edb219ad4d17"
      },
      "execution_count": 29,
      "outputs": [
        {
          "output_type": "execute_result",
          "data": {
            "text/plain": [
              "[('que', 3032),\n",
              " ('de', 2809),\n",
              " ('y', 2573),\n",
              " ('a', 1426),\n",
              " ('la', 1423),\n",
              " ('el', 1232),\n",
              " ('en', 1155),\n",
              " ('no', 903),\n",
              " ('se', 753),\n",
              " ('los', 696)]"
            ]
          },
          "metadata": {},
          "execution_count": 29
        }
      ]
    },
    {
      "cell_type": "markdown",
      "source": [
        "En esta celda se crean dos RDD nuevos que, a partir de las tuplas clave-valor de los RDD de la celda anterior y de la aplicación de la operación `reduceByKey`, se suman los valores de todos los elementos de los RDD de entrada que comparten una misma clave y así se consigue un RDD de salida que contiene claves distintas y cuyo valor asociado es el número total de veces que aparece esa clave en cada uno de los RDD anteriores.\n",
        "\n",
        "Luego se toma de un RDD de salida las 10 tuplas clave-valor con valores mayores mediante el uso de `takeOrdered` que ordena los valores de mayor a menor gracias a la función de parámetro que se le ha pasado."
      ],
      "metadata": {
        "id": "VeFkCkJgOPL3"
      }
    },
    {
      "cell_type": "code",
      "source": [
        "res = words.groupByKey().takeOrdered(10, key=lambda a: -len(a))\n",
        "res # To see the content, res[i][1].data\n",
        "\n",
        "# for k,v in res:\n",
        "#     print (k, list(v))"
      ],
      "metadata": {
        "colab": {
          "base_uri": "https://localhost:8080/"
        },
        "id": "Cyjew_0vKYof",
        "outputId": "49e2ad87-0ed4-472e-e2d3-f29ca54c06a2"
      },
      "execution_count": 30,
      "outputs": [
        {
          "output_type": "execute_result",
          "data": {
            "text/plain": [
              "[('el', <pyspark.resultiterable.ResultIterable at 0x7d94dc2091b0>),\n",
              " ('hidalgo', <pyspark.resultiterable.ResultIterable at 0x7d94dc20bf10>),\n",
              " ('don', <pyspark.resultiterable.ResultIterable at 0x7d94dc20bd60>),\n",
              " ('mancha', <pyspark.resultiterable.ResultIterable at 0x7d94dc20bee0>),\n",
              " ('saavedra', <pyspark.resultiterable.ResultIterable at 0x7d94dc20be80>),\n",
              " ('que', <pyspark.resultiterable.ResultIterable at 0x7d94dc20bfd0>),\n",
              " ('condición', <pyspark.resultiterable.ResultIterable at 0x7d94dc25c070>),\n",
              " ('y', <pyspark.resultiterable.ResultIterable at 0x7d94dc25c0d0>),\n",
              " ('del', <pyspark.resultiterable.ResultIterable at 0x7d94dc25c130>),\n",
              " ('d', <pyspark.resultiterable.ResultIterable at 0x7d94dc25c190>)]"
            ]
          },
          "metadata": {},
          "execution_count": 30
        }
      ]
    },
    {
      "cell_type": "markdown",
      "source": [
        "Este caso lo hemos visto en la sección anterior. Mediante el uso de `groupByKey` y a partir del RDD cuyos elementos son tuplas clave-valor, se obtienen juntan los elementos que comparten una misma clave pero el valor pasa a ser una lista que contiene los diferentes valores de los elementos que comparten una mimsa clave. Luego además se muestran los 10 primeros elementos de este nuevo RDD cuyos elementos son los pares clave-lista. Esta lista, como se comentó anteriormente, es en realidad un objeto iterable y para ver la lista explícitamente se debe utilizar el bucle `for` que está comentado, como se hizo en la sección anterior."
      ],
      "metadata": {
        "id": "_0PM9CKGO-bS"
      }
    },
    {
      "cell_type": "code",
      "source": [
        "joinFreq = frequencies.join(frequencies2)\n",
        "joinFreq.take(10)"
      ],
      "metadata": {
        "colab": {
          "base_uri": "https://localhost:8080/"
        },
        "id": "xE8iKp3vKebM",
        "outputId": "959d6d7b-c9cd-4250-e045-41083aab4e8b"
      },
      "execution_count": 31,
      "outputs": [
        {
          "output_type": "execute_result",
          "data": {
            "text/plain": [
              "[('el', (1232, 4394)),\n",
              " ('hidalgo', (14, 42)),\n",
              " ('don', (370, 1606)),\n",
              " ('mancha', (26, 101)),\n",
              " ('saavedra', (1, 1)),\n",
              " ('que', (3032, 10040)),\n",
              " ('y', (2573, 9650)),\n",
              " ('del', (415, 1344)),\n",
              " ('en', (1155, 4223)),\n",
              " ('cuyo', (11, 35))]"
            ]
          },
          "metadata": {},
          "execution_count": 31
        }
      ]
    },
    {
      "cell_type": "markdown",
      "source": [
        "En esta celda se juntan los dos RDD creados anteriormente cuyos elementos eran las tuplas clave-valor, donde la clave son las palabras y el valor las frecuencias absolutas de dicha palabra, tanto para la parte primera como para la segunda. En este caso, se realiza un 'join' que junta los dos RDD y así los elementos del RDD de salida son tuplas clave-valor donde el valor es una lista que contiene dos números, la frecuencia absoluta de dicha clave en la primera y en la segunda parte de El Quijote. Luego se muestran los 10 primeros elementos de dicho RDD."
      ],
      "metadata": {
        "id": "baTXGgNvQ7vd"
      }
    },
    {
      "cell_type": "code",
      "source": [
        "joinFreq.map(lambda e: (e[0], (e[1][0] - e[1][1])/(e[1][0] + e[1][1]))).takeOrdered(10, lambda v: -v[1]), joinFreq.map(lambda e: (e[0], (e[1][0] - e[1][1])/(e[1][0] + e[1][1]))).takeOrdered(10, lambda v: +v[1])"
      ],
      "metadata": {
        "colab": {
          "base_uri": "https://localhost:8080/"
        },
        "id": "KfKnfTD7KgpG",
        "outputId": "734a5c9a-e59d-457b-d2fa-24eced0a7c0b"
      },
      "execution_count": 32,
      "outputs": [
        {
          "output_type": "execute_result",
          "data": {
            "text/plain": [
              "([('pieza', 0.8),\n",
              "  ('corral', 0.8),\n",
              "  ('rodela', 0.7777777777777778),\n",
              "  ('curar', 0.75),\n",
              "  ('valle', 0.75),\n",
              "  ('entierro', 0.75),\n",
              "  ('oh', 0.7142857142857143),\n",
              "  ('licor', 0.7142857142857143),\n",
              "  ('difunto', 0.7142857142857143),\n",
              "  ('pago', 0.6666666666666666)],\n",
              " [('teresa', -0.9767441860465116),\n",
              "  ('roque', -0.96),\n",
              "  ('paje', -0.9565217391304348),\n",
              "  ('duque', -0.9565217391304348),\n",
              "  ('blanca', -0.9565217391304348),\n",
              "  ('gobernador', -0.9503105590062112),\n",
              "  ('diego', -0.9459459459459459),\n",
              "  ('tarde', -0.9428571428571428),\n",
              "  ('mesmo', -0.9381443298969072),\n",
              "  ('letras', -0.9354838709677419)])"
            ]
          },
          "metadata": {},
          "execution_count": 32
        }
      ]
    },
    {
      "cell_type": "markdown",
      "source": [
        "En esta celda se crean dos RDD nuevos. Utilizando el RDD de salida anterior, se aplica una función para comparar las frecuencias entre los dos textos. La función que se pasa como parámetro es:\n",
        "\n",
        "$\\frac{N_1 - N_2}{N_1 + N_2}$\n",
        "\n",
        "donde $N_1$ representa el primer valor de la lista de valores, es decir, la frecuencia absoluta de una palabra en el primer texto y $N_2$ es la frecuencia absoluta de esa misma palabra en el segundo texto. Este valor se calcula para cada palabra (cada clave) mediante la función `map`.\n",
        "\n",
        "Una vez se calcula este valor para cada clave, que representa la frecuencia relativa de la palabra en los dos textos (+1.0 indica que dicha palabra solo aparece en el primer texto, 0.0 indica que aparece en los dos textos el mismo número de veces y -1.0 indica que dicha palabra aparece solo en el segundo texto), se muestran las 10 palabras que más aparecen en el primer texto en relación con el segundo y viceversa."
      ],
      "metadata": {
        "id": "TEJQiGDzRuel"
      }
    },
    {
      "cell_type": "markdown",
      "source": [
        "#### Pregunta TS2.4 ¿Cómo puede implementarse la frecuencia con `groupByKey` y transformaciones?\n",
        "\n",
        "Para calcular la frecuencia con la que sale cada palabra mediante el uso de `groupByKey` y transformaciones de tipo `map` podemos utilizar un código como el siguiente:"
      ],
      "metadata": {
        "id": "u7NrjBMlEWcH"
      }
    },
    {
      "cell_type": "code",
      "source": [
        "res = words.groupByKey().mapValues(lambda x : sum(x))\n",
        "\n",
        "res.take(10)"
      ],
      "metadata": {
        "colab": {
          "base_uri": "https://localhost:8080/"
        },
        "id": "mliJlP5KEY6_",
        "outputId": "7b269267-5339-4981-988b-c49dd1225d16"
      },
      "execution_count": 33,
      "outputs": [
        {
          "output_type": "execute_result",
          "data": {
            "text/plain": [
              "[('el', 1232),\n",
              " ('hidalgo', 14),\n",
              " ('don', 370),\n",
              " ('mancha', 26),\n",
              " ('saavedra', 1),\n",
              " ('que', 3032),\n",
              " ('condición', 16),\n",
              " ('y', 2573),\n",
              " ('del', 415),\n",
              " ('d', 14)]"
            ]
          },
          "metadata": {},
          "execution_count": 33
        }
      ]
    },
    {
      "cell_type": "markdown",
      "source": [
        "Debemos partir del RDD que contiene como elementos las tuplas clave-valor que representan pares palabra-1 de El Quijote. A partir de este RDD, juntamos las palabras por clave utilizando `groupByKey` y luego sumamos todos los valores de la lista creada por `groupByKey` utilizando `mapValues`, como se hizo en la pregunta 10 del apartado anterior."
      ],
      "metadata": {
        "id": "zrDPMmRGU_Qx"
      }
    },
    {
      "cell_type": "markdown",
      "source": [
        "#### Pregunta TS2.5 ¿Cuál de las dos siguientes celdas es más eficiente? Justifique la respuesta.\n",
        "\n",
        "Las celdas a las que se hace referencia son:"
      ],
      "metadata": {
        "id": "NBTxIJI4EapN"
      }
    },
    {
      "cell_type": "code",
      "source": [
        "joinFreq.map(lambda e: (e[0], (e[1][0] - e[1][1])/(e[1][0] + e[1][1]))).takeOrdered(10, lambda v: -v[1]), joinFreq.map(lambda e: (e[0], (e[1][0] - e[1][1])/(e[1][0] + e[1][1]))).takeOrdered(10, lambda v: +v[1])"
      ],
      "metadata": {
        "colab": {
          "base_uri": "https://localhost:8080/"
        },
        "id": "Xu41671mEczn",
        "outputId": "c494c20b-3a15-4eac-8f95-afb6dbebdf15"
      },
      "execution_count": 34,
      "outputs": [
        {
          "output_type": "execute_result",
          "data": {
            "text/plain": [
              "([('pieza', 0.8),\n",
              "  ('corral', 0.8),\n",
              "  ('rodela', 0.7777777777777778),\n",
              "  ('curar', 0.75),\n",
              "  ('valle', 0.75),\n",
              "  ('entierro', 0.75),\n",
              "  ('oh', 0.7142857142857143),\n",
              "  ('licor', 0.7142857142857143),\n",
              "  ('difunto', 0.7142857142857143),\n",
              "  ('pago', 0.6666666666666666)],\n",
              " [('teresa', -0.9767441860465116),\n",
              "  ('roque', -0.96),\n",
              "  ('paje', -0.9565217391304348),\n",
              "  ('duque', -0.9565217391304348),\n",
              "  ('blanca', -0.9565217391304348),\n",
              "  ('gobernador', -0.9503105590062112),\n",
              "  ('diego', -0.9459459459459459),\n",
              "  ('tarde', -0.9428571428571428),\n",
              "  ('mesmo', -0.9381443298969072),\n",
              "  ('letras', -0.9354838709677419)])"
            ]
          },
          "metadata": {},
          "execution_count": 34
        }
      ]
    },
    {
      "cell_type": "code",
      "source": [
        "result = joinFreq.map(lambda e: (e[0], (e[1][0] - e[1][1])/(e[1][0] + e[1][1])))\n",
        "result.cache()\n",
        "result.takeOrdered(10, lambda v: -v[1]), result.takeOrdered(10, lambda v: +v[1])"
      ],
      "metadata": {
        "colab": {
          "base_uri": "https://localhost:8080/"
        },
        "id": "V-hvbGSpX2k0",
        "outputId": "9c019972-6bfa-45ca-8801-58783126267c"
      },
      "execution_count": 35,
      "outputs": [
        {
          "output_type": "execute_result",
          "data": {
            "text/plain": [
              "([('pieza', 0.8),\n",
              "  ('corral', 0.8),\n",
              "  ('rodela', 0.7777777777777778),\n",
              "  ('curar', 0.75),\n",
              "  ('valle', 0.75),\n",
              "  ('entierro', 0.75),\n",
              "  ('oh', 0.7142857142857143),\n",
              "  ('licor', 0.7142857142857143),\n",
              "  ('difunto', 0.7142857142857143),\n",
              "  ('pago', 0.6666666666666666)],\n",
              " [('teresa', -0.9767441860465116),\n",
              "  ('roque', -0.96),\n",
              "  ('paje', -0.9565217391304348),\n",
              "  ('duque', -0.9565217391304348),\n",
              "  ('blanca', -0.9565217391304348),\n",
              "  ('gobernador', -0.9503105590062112),\n",
              "  ('diego', -0.9459459459459459),\n",
              "  ('tarde', -0.9428571428571428),\n",
              "  ('mesmo', -0.9381443298969072),\n",
              "  ('letras', -0.9354838709677419)])"
            ]
          },
          "metadata": {},
          "execution_count": 35
        }
      ]
    },
    {
      "cell_type": "markdown",
      "source": [
        "La respuesta intuitiva es que la segunda celda es más eficiente pues no estamos realizando la operación `map` dos veces sino que con solo una vez obtenemos los mismos resultados. De esta forma, la transformación que se realiza en el `map` (la suma, resta y división de los valores de los RDD de entrada) solo se realiza una vez, lo que resulta mucho más eficiente. Lo que hacemos es guardar el RDD una vez hemos aplicado `map` en el caché y luego para mostrar los 10 elementos ordenados para cada uno de los casos simplemente utilizamos este caché para acceder al RDD en vez de volver a computar la transformación."
      ],
      "metadata": {
        "id": "R4vHyvQDZDdX"
      }
    },
    {
      "cell_type": "markdown",
      "source": [
        "## 3. Parte opcional"
      ],
      "metadata": {
        "id": "kf55fdfZZ1M6"
      }
    },
    {
      "cell_type": "markdown",
      "source": [
        "En esta parte vamos a utilizar la base de datos del CCKP (Climate Change Knowledge Portal) para obtener un dataset que contiene en las columnas el nombre del país y las temperaturas medias del aire en esos países, donde una columna guardará los datos para cada uno de los meses del año y la última columna guarda el dato anual. Estos datos están recogidos durante el periodo 1961-1999.\n",
        "\n",
        "Durante el ejercicio se va a tratar de extraer información del dataset para calcular la temperatura media global (mediando entre todos los países) para cada mes. También se va a calcular la desviación típica para cada mes y se representarán dichas distribuciones para comparar las temperaturas entre los meses.\n",
        "\n",
        "Para obtener la media y la distribución de todos los países del mundo para representar las distribuciones normales por meses debemos utilizar una fórmula para calcular la media y la desviación típica en paralelo. Además, vamos a tratar de optimizar el proceso y calcular todos los datos necesarios mediante pocas transformaciones."
      ],
      "metadata": {
        "id": "1WZNmmneeUt1"
      }
    },
    {
      "cell_type": "markdown",
      "source": [
        "Una vez tenemos el dataset en formato .csv, utilizando Spark es fácilmente de leer los datos ya que vienen separados por comas. Separaremos los datos mediante un `map` así se obtendrá un RDD cuyos elementos serán País, Temperatura Meses (12 elementos), Temperatura Anual de los cuales descartaremos el primero para calcular la media y la desviación de las temperaturas."
      ],
      "metadata": {
        "id": "324AqDiKOihG"
      }
    },
    {
      "cell_type": "code",
      "source": [
        "# Leemos el archivo csv\n",
        "datos = sc.textFile(\"/content/historico.csv\")\n",
        "\n",
        "# Separamos las líneas\n",
        "datos = datos.map(lambda x: x.split(\";\")[0:14])\n",
        "datos.take(1)"
      ],
      "metadata": {
        "colab": {
          "base_uri": "https://localhost:8080/"
        },
        "id": "ffwFcKtnPI7_",
        "outputId": "0b39aea3-8809-493e-d5a6-230d7ab900a4"
      },
      "execution_count": 36,
      "outputs": [
        {
          "output_type": "execute_result",
          "data": {
            "text/plain": [
              "[['AFG',\n",
              "  '0.07',\n",
              "  '2.11',\n",
              "  '7.60',\n",
              "  '13.37',\n",
              "  '18.22',\n",
              "  '23.20',\n",
              "  '25.26',\n",
              "  '23.77',\n",
              "  '19.03',\n",
              "  '12.99',\n",
              "  '7.00',\n",
              "  '2.43',\n",
              "  '12.92']]"
            ]
          },
          "metadata": {},
          "execution_count": 36
        }
      ]
    },
    {
      "cell_type": "markdown",
      "source": [
        "Una vez hemos obtenido cada línea por separado utilizamos `map` de nuevo para operar sobre los elementos y añadir a los valores su respesctiva clave para poder poder más adelante juntar los datos que compartan una misma clave para poder calcular las medias y las desviaciones."
      ],
      "metadata": {
        "id": "XktVTRzBQ5g4"
      }
    },
    {
      "cell_type": "code",
      "source": [
        "# Lista de claves\n",
        "claves = ['country', 'temp_jan', 'temp_feb', 'temp_mar', 'temp_apr', 'temp_may', 'temp_jun',\n",
        "          'temp_jul', 'temp_aug', 'temp_sep', 'temp_oct', 'temp_nov', 'temp_dec', 'temp_year']\n",
        "\n",
        "# Función para transformar cada lista en un par clave-valor\n",
        "def kv_pais(lista_valores):\n",
        "    return list(zip(claves, lista_valores))\n",
        "\n",
        "datos_kv = datos.map(kv_pais)\n",
        "datos_kv.take(1)"
      ],
      "metadata": {
        "colab": {
          "base_uri": "https://localhost:8080/"
        },
        "id": "JscxCw5rPI2f",
        "outputId": "7b4aef3d-13e2-4163-c9cc-128931aaee71"
      },
      "execution_count": 37,
      "outputs": [
        {
          "output_type": "execute_result",
          "data": {
            "text/plain": [
              "[[('country', 'AFG'),\n",
              "  ('temp_jan', '0.07'),\n",
              "  ('temp_feb', '2.11'),\n",
              "  ('temp_mar', '7.60'),\n",
              "  ('temp_apr', '13.37'),\n",
              "  ('temp_may', '18.22'),\n",
              "  ('temp_jun', '23.20'),\n",
              "  ('temp_jul', '25.26'),\n",
              "  ('temp_aug', '23.77'),\n",
              "  ('temp_sep', '19.03'),\n",
              "  ('temp_oct', '12.99'),\n",
              "  ('temp_nov', '7.00'),\n",
              "  ('temp_dec', '2.43'),\n",
              "  ('temp_year', '12.92')]]"
            ]
          },
          "metadata": {},
          "execution_count": 37
        }
      ]
    },
    {
      "cell_type": "markdown",
      "source": [
        "Una vez tenemos nuestro RDD, con los pares clave-valor preparados, debemos obtener la media y la desviación para cada mes. Para ello debemos aplicar dos pasos de transformación de los datos antes de poder realizar ningún cálculo:\n",
        "\n",
        "1. Para empezar, debemos eliminar el primer dato de cada elemento de nuestro RDD ya que no contiene información sobre la temperatura y no podremos operar con estos datos. Utilizaremos para ello `flatMap`.\n",
        "\n",
        "2. Para poder operar correctamente\n",
        "sonre nuestros elementos, debemos pasar las temperaturas de strings a floats."
      ],
      "metadata": {
        "id": "XxyKZkTViH6b"
      }
    },
    {
      "cell_type": "code",
      "source": [
        "# Tomamos los valores a partir del primero (que contienen las temperaturas)\n",
        "datos_temp = datos_kv.flatMap(lambda elem: elem[1:])\n",
        "\n",
        "# Pasamos los valores de temperatura a floats\n",
        "datos_temp = datos_temp.map(lambda x: (x[0], float(x[1])))\n",
        "datos_temp.take(13)"
      ],
      "metadata": {
        "colab": {
          "base_uri": "https://localhost:8080/"
        },
        "id": "c4MWheGpBD94",
        "outputId": "d0077646-39e6-4012-faff-615ff25450d6"
      },
      "execution_count": 38,
      "outputs": [
        {
          "output_type": "execute_result",
          "data": {
            "text/plain": [
              "[('temp_jan', 0.07),\n",
              " ('temp_feb', 2.11),\n",
              " ('temp_mar', 7.6),\n",
              " ('temp_apr', 13.37),\n",
              " ('temp_may', 18.22),\n",
              " ('temp_jun', 23.2),\n",
              " ('temp_jul', 25.26),\n",
              " ('temp_aug', 23.77),\n",
              " ('temp_sep', 19.03),\n",
              " ('temp_oct', 12.99),\n",
              " ('temp_nov', 7.0),\n",
              " ('temp_dec', 2.43),\n",
              " ('temp_year', 12.92)]"
            ]
          },
          "metadata": {},
          "execution_count": 38
        }
      ]
    },
    {
      "cell_type": "markdown",
      "source": [
        "Ahora que nuestro RDD está compuesto únicamente por pares clave-valor, es muy sencillo operar sobre el mismo para obtener nuestra media y nuestra desviación.\n",
        "\n",
        "Para empezar, debemos crear un RDD con el formato `(clave, (valor, valor**2, 1))`. Esto lo realizaremos mediante el uso de `map` haciendo que guarde la clave y luego se haga una lista con los valores (para calcular la media), los valores al cuadrado (para calcular la desviación) y 1 (para calcular el número total de elementos).\n",
        "\n",
        "Una vez tenemos nuestro RDD modificado, debemos realizar el cálculo de los totales. Esto se realiza utilizando `reduceByKey` y provocando que de nuestra lista creada anteriormente se añadan los respectivos valores que comparten una misma clave y así nuestro RDD se reduce a 13 elementos con el formato `(clave, (suma_valor, suma_valor_sqr, length))`.\n",
        "\n",
        "Una vez tenemos este RDD se puede calcular sencillamente la media y la desviación típica utilizando las fórmulas:\n",
        "\n",
        "$\\mu = \\frac{1}{N}\\sum^N_{i=1} v_i$\n",
        "\n",
        "$\\sigma = \\sqrt{\\frac{1}{N}\\sum^N_{i=1} (v_i - \\mu)^2}$\n",
        "\n",
        "donde el sumatorio ya lo hemos realizado en el paso anterior, en el `reduceByKey`. Este cálculo se realiza para cada elemento utilizando `mapValues` (ya que ignoramos las claves para el cálculo) y el RDD resultante es un RDD de 13 elementos que contiene el resultado de la media y desviación de las temperaturas agrupadas por meses (claves)."
      ],
      "metadata": {
        "id": "xYpINWiFFjOt"
      }
    },
    {
      "cell_type": "code",
      "source": [
        "# Creamos el RDD en el formato (clave, (valor, 1))\n",
        "datos_temp = datos_temp.map(lambda x: (x[0], (x[1], x[1]**2, 1)))\n",
        "\n",
        "# Reducimos para calcular los totales\n",
        "datos_temp = datos_temp.reduceByKey(lambda v1, v2: (v1[0]+v2[0], v1[1]+v2[1], v1[2]+v2[2]))\n",
        "datos_mean_std = datos_temp.mapValues(lambda x: (\n",
        "    x[0]/x[2],\n",
        "    ((x[1]/x[2])-(x[0]/x[2])**2)**0.5\n",
        "    ))\n",
        "\n",
        "datos_calc = datos_mean_std.collect()\n",
        "for row in datos_calc:\n",
        "    print(row)"
      ],
      "metadata": {
        "colab": {
          "base_uri": "https://localhost:8080/"
        },
        "id": "hs5dMdW-GqP4",
        "outputId": "e3d684be-6cef-4f9f-f81f-93f6cb3b5ec5"
      },
      "execution_count": 39,
      "outputs": [
        {
          "output_type": "stream",
          "name": "stdout",
          "text": [
            "('temp_jan', (12.891348314606747, 13.2616467100789))\n",
            "('temp_feb', (13.87921348314607, 12.932944234489003))\n",
            "('temp_apr', (18.24056179775281, 9.34523730884029))\n",
            "('temp_may', (20.15943820224719, 7.612833097754801))\n",
            "('temp_jun', (21.3443820224719, 6.6764936392341045))\n",
            "('temp_aug', (21.940898876404496, 6.004950044314931))\n",
            "('temp_sep', (20.757415730337083, 6.701158298013359))\n",
            "('temp_dec', (13.72938202247191, 12.288737154567949))\n",
            "('temp_year', (17.965505617977527, 8.60357542755388))\n",
            "('temp_mar', (15.934606741573036, 11.39657183386517))\n",
            "('temp_jul', (22.008483146067412, 6.167508962318396))\n",
            "('temp_oct', (18.70387640449438, 8.408109657181933))\n",
            "('temp_nov', (15.992191011235958, 10.580688643267118))\n"
          ]
        }
      ]
    },
    {
      "cell_type": "markdown",
      "source": [
        "Se ha calculado la media y la desviación estándar para poder observar las distribuciones de la temperatura por meses y poder compararlas. Sabemos que por el teorema central del límite, un conjunto de temperaturas de distintas regiones tiende a una distribución normal con cierta media y desviación típica. Así, podemos representar las distribuciones:"
      ],
      "metadata": {
        "id": "n610aUBIF3qu"
      }
    },
    {
      "cell_type": "code",
      "source": [
        "names = [item[0] for item in datos_calc]\n",
        "means = [item[1][0] for item in datos_calc]\n",
        "desvs = [item[1][1] for item in datos_calc]\n",
        "\n",
        "# Función para calcular la función de densidad de probabilidad (PDF) de una distribución gaussiana\n",
        "def gaussian_pdf(x, mean, std):\n",
        "    return 1/(std*np.sqrt(2*np.pi)) * np.exp(-0.5*((x - mean)/std)**2)\n",
        "\n",
        "x = np.linspace(min(means)-3*max(desvs), max(means)+3*max(desvs), 1000)\n",
        "\n",
        "\n",
        "plt.figure(figsize=(10, 6))\n",
        "for i in range(len(names)):\n",
        "  mean = means[i]\n",
        "  std = desvs[i]\n",
        "  plt.plot(x, gaussian_pdf(x, mean, std), label=names[i])\n",
        "\n",
        "plt.xlabel('Temperatura [ºC]')\n",
        "plt.ylabel('Densidad de probabilidad')\n",
        "plt.title('Distribuciones de la temperatura por meses')\n",
        "plt.legend()\n",
        "\n",
        "plt.grid(True)\n",
        "plt.show()"
      ],
      "metadata": {
        "colab": {
          "base_uri": "https://localhost:8080/",
          "height": 429
        },
        "id": "MON-yKVcl_o0",
        "outputId": "ff20532e-fdb1-4a2f-f0d4-330f38d4396d"
      },
      "execution_count": 40,
      "outputs": [
        {
          "output_type": "display_data",
          "data": {
            "text/plain": [
              "<Figure size 1000x600 with 1 Axes>"
            ],
            "image/png": "[encoded data removed]"
          },
          "metadata": {}
        }
      ]
    },
    {
      "cell_type": "markdown",
      "source": [
        "Se puede observar que las temperaturas siguen una distribución similar a la de las temperaturas en el hemisferio norte puesto que existen una gran cantidad de países en esta región, que se intemponen a los países ecuatoriales o los del hemisferio sur (cuyas temperaturas son opuestas a las de los países en el hemisferio norte en verano e invierno). Esta descompensación, como mencionado, recae en el hecho que en el hemisferio norte existan una cantidad de países sustancialmente mayor, lo que provoca que las temperaturas sigan distribuciones compatibles con las que se dan en esta región.\n",
        "\n",
        "Además, la distribución de la temperatura anual, que era la última columna de nuestro documento, es razonable pues recoge una distribución \"media\" de todos los meses, estando lejos de los meses más fríos (enero, febrero, diciembre...) y de los meses más cálidos (julio, agosto...).\n",
        "\n",
        "Otra observación es que los meses más fríos tienden a tener una mayor desviación que los meses cálidos. Esto se debe a que además de existir más países en el hemisferio norte, estos se encuentran más al norte que lo que se encuentran al sur los países del hemisferio sur. Esto significa que por ejemplo en enero, los países del hemisferio sur tienen en promedio temperaturas muy frías y los países del hemisferio sur tienen temperaturas algo cálidas. En contraste, para julio, los países del hemisferio sur tienen temperaturas algo frías y los países del hemisferio norte tienen temperaturas algo cálidas, lo que provoca que estén \"más cerca\" entre sí y por tanto, que la desviación no sea tan importante como en los meses de invierno en el hemisferio norte."
      ],
      "metadata": {
        "id": "xgamVHANGRB3"
      }
    },
    {
      "cell_type": "code",
      "source": [],
      "metadata": {
        "id": "VRTDHcTLAPOR"
      },
      "execution_count": 40,
      "outputs": []
    }
  ]
}